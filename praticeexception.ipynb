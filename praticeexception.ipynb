{
 "cells": [
  {
   "cell_type": "code",
   "execution_count": 1,
   "id": "97f1301c-61a3-437e-85b8-0ee9ff1a09fc",
   "metadata": {},
   "outputs": [
    {
     "name": "stdout",
     "output_type": "stream",
     "text": [
      "division by zero\n"
     ]
    }
   ],
   "source": [
    "#always try to specific a exception\n",
    "try:\n",
    "    10/0\n",
    "except ZeroDivisionError as e:\n",
    "    print(e)"
   ]
  },
  {
   "cell_type": "code",
   "execution_count": 2,
   "id": "9af7f17e-a017-4b6a-8806-9b474ff81706",
   "metadata": {},
   "outputs": [
    {
     "name": "stdout",
     "output_type": "stream",
     "text": [
      "i am trying to find exception handling  division by zero\n"
     ]
    }
   ],
   "source": [
    "# Always print a proper message\n",
    "try:\n",
    "    10/0\n",
    "except ZeroDivisionError as e:\n",
    "    print(\"i am trying to find exception handling \",e)"
   ]
  },
  {
   "cell_type": "code",
   "execution_count": 1,
   "id": "bb11bcbd-38e3-4d45-9698-ed654599de0b",
   "metadata": {},
   "outputs": [],
   "source": [
    "# Always use logging instead of print\n",
    "import logging \n",
    "logging.basicConfig(filename=\"error.log\",level=logging.ERROR)\n",
    "try:\n",
    "    10/0\n",
    "except ZeroDivisionError as e:\n",
    "    logging.error(\"i am trying to find exception handling{}\".format(e))"
   ]
  },
  {
   "cell_type": "code",
   "execution_count": 2,
   "id": "bade5aa6-7a4a-419b-b106-1fd7968882dd",
   "metadata": {},
   "outputs": [],
   "source": [
    "#always avoid to write a multiple exception handling\n",
    "try:\n",
    "    10/0\n",
    "except FileNotFoundError as e:\n",
    "    logging.error(\"i am trying to find filenotfound error {}\".format(e))\n",
    "except AttributeError as e:\n",
    "    logging.error(\"i am trying to find attributeerror {}\".format(e))\n",
    "except ZeroDivisionError as e:\n",
    "    logging.error(\"i am trying to find Zerodivision error{}\".format(e))"
   ]
  },
  {
   "cell_type": "code",
   "execution_count": 4,
   "id": "1d2514b8-73c2-471b-b1ae-8ef40a138bdc",
   "metadata": {},
   "outputs": [],
   "source": [
    "# Document all the error\n",
    "#clenup all the resources\n",
    "try:\n",
    "    with open(\"test.txt\",\"w\") as f:\n",
    "        f.write(\"this is my data to file \")\n",
    "except FileNotFoundError as e:\n",
    "    logging.error(\"i am handling file not found{}\".format(e))\n",
    "finally:\n",
    "    f.close()"
   ]
  },
  {
   "cell_type": "code",
   "execution_count": null,
   "id": "854716e6-02cb-4ffd-b881-7aa40198b5fd",
   "metadata": {},
   "outputs": [],
   "source": []
  }
 ],
 "metadata": {
  "kernelspec": {
   "display_name": "Python 3 (ipykernel)",
   "language": "python",
   "name": "python3"
  },
  "language_info": {
   "codemirror_mode": {
    "name": "ipython",
    "version": 3
   },
   "file_extension": ".py",
   "mimetype": "text/x-python",
   "name": "python",
   "nbconvert_exporter": "python",
   "pygments_lexer": "ipython3",
   "version": "3.10.8"
  }
 },
 "nbformat": 4,
 "nbformat_minor": 5
}
